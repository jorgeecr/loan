{
  "nbformat": 4,
  "nbformat_minor": 0,
  "metadata": {
    "colab": {
      "name": "Copia de leiser",
      "provenance": [],
      "authorship_tag": "ABX9TyPmukjXw1BFDSi0xn/3Ucok",
      "include_colab_link": true
    },
    "kernelspec": {
      "name": "python3",
      "display_name": "Python 3"
    }
  },
  "cells": [
    {
      "cell_type": "markdown",
      "metadata": {
        "id": "view-in-github",
        "colab_type": "text"
      },
      "source": [
        "<a href=\"https://colab.research.google.com/github/jorgeecr/loan/blob/master/faxinas.ipynb\" target=\"_parent\"><img src=\"https://colab.research.google.com/assets/colab-badge.svg\" alt=\"Open In Colab\"/></a>"
      ]
    },
    {
      "cell_type": "code",
      "metadata": {
        "id": "_uGRsZrcrAc9",
        "colab_type": "code",
        "colab": {}
      },
      "source": [
        "import pandas as pd\n",
        "import numpy as np\n",
        "import cvxpy as cp\n",
        "import matplotlib\n",
        "import scipy"
      ],
      "execution_count": 0,
      "outputs": []
    },
    {
      "cell_type": "code",
      "metadata": {
        "id": "2WHTSnJerAYu",
        "colab_type": "code",
        "colab": {}
      },
      "source": [
        "from matplotlib import pyplot as plt\n",
        "matplotlib.style.use('seaborn')"
      ],
      "execution_count": 0,
      "outputs": []
    },
    {
      "cell_type": "code",
      "metadata": {
        "id": "an05TDIyr3nj",
        "colab_type": "code",
        "colab": {}
      },
      "source": [
        "# Data utilities\n",
        "def index_by_date(df):\n",
        "    try:\n",
        "        df['date'] = pd.to_datetime(df['date'], format='%d/%m/%Y')\n",
        "    except:\n",
        "        df['date'] = pd.to_datetime(df['date'], format='%Y/%m/%d')\n",
        "    df = df.set_index('date')\n",
        "    \n",
        "    return df\n",
        "\n",
        "def adjust_returns(spot_return, decay):\n",
        "    spot_momentum = spot_return.ewm(com=decay / (1.0 - decay), adjust=False).mean()\n",
        "    adj_return = spot_return - spot_momentum\n",
        "    \n",
        "    return adj_return"
      ],
      "execution_count": 0,
      "outputs": []
    },
    {
      "cell_type": "code",
      "metadata": {
        "id": "BcPImbgur3lr",
        "colab_type": "code",
        "colab": {}
      },
      "source": [
        "path = '/content/'\n",
        "usd_ret = pd.read_csv('{}usd_returns.csv'.format(path))\n",
        "chf_ret = pd.read_csv('{}chf_returns.csv'.format(path))\n",
        "premia = pd.read_csv('{}premia_returns.csv'.format(path))\n",
        "usd_ret = index_by_date(usd_ret)\n",
        "chf_ret = index_by_date(chf_ret)\n",
        "premia = index_by_date(premia)"
      ],
      "execution_count": 0,
      "outputs": []
    },
    {
      "cell_type": "code",
      "metadata": {
        "id": "WEr9b-Tpr3g8",
        "colab_type": "code",
        "colab": {}
      },
      "source": [
        "# Here you could select only the ccy pairs you want in the portfolio, usd or chf base\n",
        "start_sim = '2008-01-01'\n",
        "portfolio_returns = usd_ret.copy()\n",
        "portfolio_returns['target'] =  premia['target']\n",
        "portfolio_returns = portfolio_returns[start_sim:]"
      ],
      "execution_count": 0,
      "outputs": []
    },
    {
      "cell_type": "code",
      "metadata": {
        "id": "NQYYGWvqr3fO",
        "colab_type": "code",
        "outputId": "3b6fedf2-c679-40a0-943d-f234ca81ba59",
        "colab": {
          "base_uri": "https://localhost:8080/",
          "height": 235
        }
      },
      "source": [
        "portfolio_returns.head()"
      ],
      "execution_count": 6,
      "outputs": [
        {
          "output_type": "execute_result",
          "data": {
            "text/html": [
              "<div>\n",
              "<style scoped>\n",
              "    .dataframe tbody tr th:only-of-type {\n",
              "        vertical-align: middle;\n",
              "    }\n",
              "\n",
              "    .dataframe tbody tr th {\n",
              "        vertical-align: top;\n",
              "    }\n",
              "\n",
              "    .dataframe thead th {\n",
              "        text-align: right;\n",
              "    }\n",
              "</style>\n",
              "<table border=\"1\" class=\"dataframe\">\n",
              "  <thead>\n",
              "    <tr style=\"text-align: right;\">\n",
              "      <th></th>\n",
              "      <th>AUDUSD</th>\n",
              "      <th>EURUSD</th>\n",
              "      <th>GBPUSD</th>\n",
              "      <th>NZDUSD</th>\n",
              "      <th>CADUSD</th>\n",
              "      <th>CHFUSD</th>\n",
              "      <th>JPYUSD</th>\n",
              "      <th>NOKUSD</th>\n",
              "      <th>SEKUSD</th>\n",
              "      <th>target</th>\n",
              "    </tr>\n",
              "    <tr>\n",
              "      <th>date</th>\n",
              "      <th></th>\n",
              "      <th></th>\n",
              "      <th></th>\n",
              "      <th></th>\n",
              "      <th></th>\n",
              "      <th></th>\n",
              "      <th></th>\n",
              "      <th></th>\n",
              "      <th></th>\n",
              "      <th></th>\n",
              "    </tr>\n",
              "  </thead>\n",
              "  <tbody>\n",
              "    <tr>\n",
              "      <th>2008-01-01</th>\n",
              "      <td>0.001906</td>\n",
              "      <td>0.001691</td>\n",
              "      <td>0.002161</td>\n",
              "      <td>0.000042</td>\n",
              "      <td>-0.005947</td>\n",
              "      <td>0.003084</td>\n",
              "      <td>0.003162</td>\n",
              "      <td>0.000562</td>\n",
              "      <td>0.003022</td>\n",
              "      <td>-0.000776</td>\n",
              "    </tr>\n",
              "    <tr>\n",
              "      <th>2008-01-02</th>\n",
              "      <td>0.002467</td>\n",
              "      <td>0.008436</td>\n",
              "      <td>-0.003382</td>\n",
              "      <td>0.008366</td>\n",
              "      <td>0.006531</td>\n",
              "      <td>0.014324</td>\n",
              "      <td>0.018418</td>\n",
              "      <td>0.007301</td>\n",
              "      <td>0.007972</td>\n",
              "      <td>-0.000891</td>\n",
              "    </tr>\n",
              "    <tr>\n",
              "      <th>2008-01-03</th>\n",
              "      <td>0.001785</td>\n",
              "      <td>0.000666</td>\n",
              "      <td>-0.002535</td>\n",
              "      <td>0.003269</td>\n",
              "      <td>0.002218</td>\n",
              "      <td>0.002788</td>\n",
              "      <td>-0.002068</td>\n",
              "      <td>0.009821</td>\n",
              "      <td>0.007410</td>\n",
              "      <td>-0.003306</td>\n",
              "    </tr>\n",
              "    <tr>\n",
              "      <th>2008-01-04</th>\n",
              "      <td>-0.008456</td>\n",
              "      <td>0.001686</td>\n",
              "      <td>-0.001524</td>\n",
              "      <td>-0.007743</td>\n",
              "      <td>-0.012973</td>\n",
              "      <td>0.004964</td>\n",
              "      <td>0.009203</td>\n",
              "      <td>0.002504</td>\n",
              "      <td>0.001890</td>\n",
              "      <td>-0.000407</td>\n",
              "    </tr>\n",
              "    <tr>\n",
              "      <th>2008-01-07</th>\n",
              "      <td>-0.003232</td>\n",
              "      <td>-0.005438</td>\n",
              "      <td>-0.000355</td>\n",
              "      <td>-0.001786</td>\n",
              "      <td>-0.003291</td>\n",
              "      <td>-0.009693</td>\n",
              "      <td>-0.005382</td>\n",
              "      <td>-0.007994</td>\n",
              "      <td>-0.007615</td>\n",
              "      <td>0.002526</td>\n",
              "    </tr>\n",
              "  </tbody>\n",
              "</table>\n",
              "</div>"
            ],
            "text/plain": [
              "              AUDUSD    EURUSD    GBPUSD  ...    NOKUSD    SEKUSD    target\n",
              "date                                      ...                              \n",
              "2008-01-01  0.001906  0.001691  0.002161  ...  0.000562  0.003022 -0.000776\n",
              "2008-01-02  0.002467  0.008436 -0.003382  ...  0.007301  0.007972 -0.000891\n",
              "2008-01-03  0.001785  0.000666 -0.002535  ...  0.009821  0.007410 -0.003306\n",
              "2008-01-04 -0.008456  0.001686 -0.001524  ...  0.002504  0.001890 -0.000407\n",
              "2008-01-07 -0.003232 -0.005438 -0.000355  ... -0.007994 -0.007615  0.002526\n",
              "\n",
              "[5 rows x 10 columns]"
            ]
          },
          "metadata": {
            "tags": []
          },
          "execution_count": 6
        }
      ]
    },
    {
      "cell_type": "code",
      "metadata": {
        "id": "BHzoY8l1r3d5",
        "colab_type": "code",
        "colab": {}
      },
      "source": [
        "# Constants\n",
        "decay = 0.97\n",
        "w_max = 1\n",
        "w_min = -1\n",
        "spars_param = 1 / 1000000"
      ],
      "execution_count": 0,
      "outputs": []
    },
    {
      "cell_type": "code",
      "metadata": {
        "id": "fPd07RiTr3Z2",
        "colab_type": "code",
        "colab": {}
      },
      "source": [
        "port_adjRet = adjust_returns(portfolio_returns, decay)\n",
        "cov_matr_arr = port_adjRet.ewm(com=decay / (1.0 - decay), adjust=False).cov(bias=True)\n",
        "m, n = len(cov_matr_arr.index.levels[0]), len(cov_matr_arr.index.levels[1])\n",
        "cov_matr_arr = cov_matr_arr.values.reshape(m, n, -1).swapaxes(1, 2)\n",
        "time = 3000\n",
        "covMat = cov_matr_arr[time]"
      ],
      "execution_count": 0,
      "outputs": []
    },
    {
      "cell_type": "markdown",
      "metadata": {
        "id": "oROo01ZeFc9s",
        "colab_type": "text"
      },
      "source": [
        "Sean:"
      ]
    },
    {
      "cell_type": "code",
      "metadata": {
        "id": "Xo795wG9Mcd6",
        "colab_type": "code",
        "colab": {}
      },
      "source": [
        "C = newcov = covMat[:9,:9]\n",
        "q = covMat[9][:9]"
      ],
      "execution_count": 0,
      "outputs": []
    },
    {
      "cell_type": "markdown",
      "metadata": {
        "id": "EI299q7qFgfO",
        "colab_type": "text"
      },
      "source": [
        "Por ser una forma cuadrática, C = newcov alcanza un mínimo igual a su eigenvalor más chico (https://math.stackexchange.com/questions/728037/minimum-of-a-quadratic-form), es decir:\n",
        "\n",
        "$eigen \\leq x^T C x$ para toda $x$, donde"
      ]
    },
    {
      "cell_type": "code",
      "metadata": {
        "id": "VMSrJmLEF-So",
        "colab_type": "code",
        "colab": {}
      },
      "source": [
        "eigen = min(np.linalg.eig(newcov)[0])"
      ],
      "execution_count": 0,
      "outputs": []
    },
    {
      "cell_type": "markdown",
      "metadata": {
        "id": "M4rRW1wrGV2O",
        "colab_type": "text"
      },
      "source": [
        "Tomando inversos, esto implica que $\\frac{1}{x^T C x} \\leq \\frac{1}{eigen}$"
      ]
    },
    {
      "cell_type": "markdown",
      "metadata": {
        "id": "JaDDHoyALcsm",
        "colab_type": "text"
      },
      "source": [
        "Consideremos $w_i[Cw]_i$. Como los pesos son $\\leq 1$, tenemos que \n",
        "\n",
        "$w_i[Cw]_i \\leq 1*[Cw]_i \\leq [Cw]_i$"
      ]
    },
    {
      "cell_type": "markdown",
      "metadata": {
        "id": "kzGdEMb2L36w",
        "colab_type": "text"
      },
      "source": [
        "El término de la derecha de esta desigualdad puede escribirse como $[Cw]_i = C[i]^T \\cdot x$, donde $C[i]$ es la $i$-ésima fila de C.  "
      ]
    },
    {
      "cell_type": "markdown",
      "metadata": {
        "id": "XDjZKFpOMY0e",
        "colab_type": "text"
      },
      "source": [
        "Hagamos $b = C[i]$, entonces reescribiendo lo anterior tenemos que $w_i[Cw]_i \\leq b^T x$"
      ]
    },
    {
      "cell_type": "markdown",
      "metadata": {
        "id": "gcDFcxKpGr6_",
        "colab_type": "text"
      },
      "source": [
        "Si tuviéramos que $b^T x \\leq k$, para algún $k$ entonces obtendriamos como consecuencia: $\\frac{w_i[Cw]_i}{x^T C x} \\leq  \\frac{b^T x}{x^T C x} \\leq \\frac{k}{eigen}$ "
      ]
    },
    {
      "cell_type": "markdown",
      "metadata": {
        "id": "nzFdGL5dHB-2",
        "colab_type": "text"
      },
      "source": [
        "Haciendo $k = 0.4 * eigen$ obtenemos $\\frac{w_i[Cw]_i}{x^T C x} \\leq 0.4$, que es precisamente lo que queremos. En resumen, la condición que necesitamos es  $b^T x \\leq 0.4 * eigen$"
      ]
    },
    {
      "cell_type": "code",
      "metadata": {
        "id": "lAk8Vgu9Z7mm",
        "colab_type": "code",
        "colab": {}
      },
      "source": [
        ""
      ],
      "execution_count": 0,
      "outputs": []
    }
  ]
}