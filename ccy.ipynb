{
  "nbformat": 4,
  "nbformat_minor": 0,
  "metadata": {
    "colab": {
      "name": "Untitled19.ipynb",
      "provenance": [],
      "authorship_tag": "ABX9TyMDYN3UUu40rUbYXcFJdHs9"
    },
    "kernelspec": {
      "name": "python3",
      "display_name": "Python 3"
    }
  },
  "cells": [
    {
      "cell_type": "code",
      "metadata": {
        "id": "_uGRsZrcrAc9",
        "colab_type": "code",
        "colab": {}
      },
      "source": [
        "import pandas as pd\n",
        "import numpy as np\n",
        "import cvxpy as cp\n",
        "import matplotlib\n",
        "import scipy"
      ],
      "execution_count": 0,
      "outputs": []
    },
    {
      "cell_type": "code",
      "metadata": {
        "id": "2WHTSnJerAYu",
        "colab_type": "code",
        "colab": {}
      },
      "source": [
        "from matplotlib import pyplot as plt\n",
        "matplotlib.style.use('seaborn')"
      ],
      "execution_count": 0,
      "outputs": []
    },
    {
      "cell_type": "code",
      "metadata": {
        "id": "an05TDIyr3nj",
        "colab_type": "code",
        "colab": {}
      },
      "source": [
        "# Data utilities\n",
        "def index_by_date(df):\n",
        "    try:\n",
        "        df['date'] = pd.to_datetime(df['date'], format='%d/%m/%Y')\n",
        "    except:\n",
        "        df['date'] = pd.to_datetime(df['date'], format='%Y/%m/%d')\n",
        "    df = df.set_index('date')\n",
        "    \n",
        "    return df\n",
        "\n",
        "def adjust_returns(spot_return, decay):\n",
        "    spot_momentum = spot_return.ewm(com=decay / (1.0 - decay), adjust=False).mean()\n",
        "    adj_return = spot_return - spot_momentum\n",
        "    \n",
        "    return adj_return"
      ],
      "execution_count": 0,
      "outputs": []
    },
    {
      "cell_type": "code",
      "metadata": {
        "id": "BcPImbgur3lr",
        "colab_type": "code",
        "colab": {}
      },
      "source": [
        "path = '/content/'\n",
        "usd_ret = pd.read_csv('{}usd_returns.csv'.format(path))\n",
        "chf_ret = pd.read_csv('{}chf_returns.csv'.format(path))\n",
        "premia = pd.read_csv('{}premia_returns.csv'.format(path))\n",
        "usd_ret = index_by_date(usd_ret)\n",
        "chf_ret = index_by_date(chf_ret)\n",
        "premia = index_by_date(premia)"
      ],
      "execution_count": 0,
      "outputs": []
    },
    {
      "cell_type": "code",
      "metadata": {
        "id": "WEr9b-Tpr3g8",
        "colab_type": "code",
        "colab": {}
      },
      "source": [
        "# Here you could select only the ccy pairs you want in the portfolio, usd or chf base\n",
        "start_sim = '2008-01-01'\n",
        "portfolio_returns = usd_ret.copy()\n",
        "portfolio_returns['target'] =  premia['target']\n",
        "portfolio_returns = portfolio_returns[start_sim:]"
      ],
      "execution_count": 0,
      "outputs": []
    },
    {
      "cell_type": "code",
      "metadata": {
        "id": "NQYYGWvqr3fO",
        "colab_type": "code",
        "colab": {
          "base_uri": "https://localhost:8080/",
          "height": 235
        },
        "outputId": "d4c94a72-5524-4538-d7aa-4e8917afe072"
      },
      "source": [
        "portfolio_returns.head()"
      ],
      "execution_count": 39,
      "outputs": [
        {
          "output_type": "execute_result",
          "data": {
            "text/html": [
              "<div>\n",
              "<style scoped>\n",
              "    .dataframe tbody tr th:only-of-type {\n",
              "        vertical-align: middle;\n",
              "    }\n",
              "\n",
              "    .dataframe tbody tr th {\n",
              "        vertical-align: top;\n",
              "    }\n",
              "\n",
              "    .dataframe thead th {\n",
              "        text-align: right;\n",
              "    }\n",
              "</style>\n",
              "<table border=\"1\" class=\"dataframe\">\n",
              "  <thead>\n",
              "    <tr style=\"text-align: right;\">\n",
              "      <th></th>\n",
              "      <th>AUDUSD</th>\n",
              "      <th>EURUSD</th>\n",
              "      <th>GBPUSD</th>\n",
              "      <th>NZDUSD</th>\n",
              "      <th>CADUSD</th>\n",
              "      <th>CHFUSD</th>\n",
              "      <th>JPYUSD</th>\n",
              "      <th>NOKUSD</th>\n",
              "      <th>SEKUSD</th>\n",
              "      <th>target</th>\n",
              "    </tr>\n",
              "    <tr>\n",
              "      <th>date</th>\n",
              "      <th></th>\n",
              "      <th></th>\n",
              "      <th></th>\n",
              "      <th></th>\n",
              "      <th></th>\n",
              "      <th></th>\n",
              "      <th></th>\n",
              "      <th></th>\n",
              "      <th></th>\n",
              "      <th></th>\n",
              "    </tr>\n",
              "  </thead>\n",
              "  <tbody>\n",
              "    <tr>\n",
              "      <th>2008-01-01</th>\n",
              "      <td>0.001906</td>\n",
              "      <td>0.001691</td>\n",
              "      <td>0.002161</td>\n",
              "      <td>0.000042</td>\n",
              "      <td>-0.005947</td>\n",
              "      <td>0.003084</td>\n",
              "      <td>0.003162</td>\n",
              "      <td>0.000562</td>\n",
              "      <td>0.003022</td>\n",
              "      <td>-0.000776</td>\n",
              "    </tr>\n",
              "    <tr>\n",
              "      <th>2008-01-02</th>\n",
              "      <td>0.002467</td>\n",
              "      <td>0.008436</td>\n",
              "      <td>-0.003382</td>\n",
              "      <td>0.008366</td>\n",
              "      <td>0.006531</td>\n",
              "      <td>0.014324</td>\n",
              "      <td>0.018418</td>\n",
              "      <td>0.007301</td>\n",
              "      <td>0.007972</td>\n",
              "      <td>-0.000891</td>\n",
              "    </tr>\n",
              "    <tr>\n",
              "      <th>2008-01-03</th>\n",
              "      <td>0.001785</td>\n",
              "      <td>0.000666</td>\n",
              "      <td>-0.002535</td>\n",
              "      <td>0.003269</td>\n",
              "      <td>0.002218</td>\n",
              "      <td>0.002788</td>\n",
              "      <td>-0.002068</td>\n",
              "      <td>0.009821</td>\n",
              "      <td>0.007410</td>\n",
              "      <td>-0.003306</td>\n",
              "    </tr>\n",
              "    <tr>\n",
              "      <th>2008-01-04</th>\n",
              "      <td>-0.008456</td>\n",
              "      <td>0.001686</td>\n",
              "      <td>-0.001524</td>\n",
              "      <td>-0.007743</td>\n",
              "      <td>-0.012973</td>\n",
              "      <td>0.004964</td>\n",
              "      <td>0.009203</td>\n",
              "      <td>0.002504</td>\n",
              "      <td>0.001890</td>\n",
              "      <td>-0.000407</td>\n",
              "    </tr>\n",
              "    <tr>\n",
              "      <th>2008-01-07</th>\n",
              "      <td>-0.003232</td>\n",
              "      <td>-0.005438</td>\n",
              "      <td>-0.000355</td>\n",
              "      <td>-0.001786</td>\n",
              "      <td>-0.003291</td>\n",
              "      <td>-0.009693</td>\n",
              "      <td>-0.005382</td>\n",
              "      <td>-0.007994</td>\n",
              "      <td>-0.007615</td>\n",
              "      <td>0.002526</td>\n",
              "    </tr>\n",
              "  </tbody>\n",
              "</table>\n",
              "</div>"
            ],
            "text/plain": [
              "              AUDUSD    EURUSD    GBPUSD  ...    NOKUSD    SEKUSD    target\n",
              "date                                      ...                              \n",
              "2008-01-01  0.001906  0.001691  0.002161  ...  0.000562  0.003022 -0.000776\n",
              "2008-01-02  0.002467  0.008436 -0.003382  ...  0.007301  0.007972 -0.000891\n",
              "2008-01-03  0.001785  0.000666 -0.002535  ...  0.009821  0.007410 -0.003306\n",
              "2008-01-04 -0.008456  0.001686 -0.001524  ...  0.002504  0.001890 -0.000407\n",
              "2008-01-07 -0.003232 -0.005438 -0.000355  ... -0.007994 -0.007615  0.002526\n",
              "\n",
              "[5 rows x 10 columns]"
            ]
          },
          "metadata": {
            "tags": []
          },
          "execution_count": 39
        }
      ]
    },
    {
      "cell_type": "code",
      "metadata": {
        "id": "BHzoY8l1r3d5",
        "colab_type": "code",
        "colab": {}
      },
      "source": [
        "# Constants\n",
        "decay = 0.97\n",
        "w_max = 1\n",
        "w_min = -1\n",
        "spars_param = 1 / 1000000"
      ],
      "execution_count": 0,
      "outputs": []
    },
    {
      "cell_type": "code",
      "metadata": {
        "id": "fPd07RiTr3Z2",
        "colab_type": "code",
        "colab": {}
      },
      "source": [
        "port_adjRet = adjust_returns(portfolio_returns, decay)\n",
        "cov_matr_arr = port_adjRet.ewm(com=decay / (1.0 - decay), adjust=False).cov(bias=True)\n",
        "m, n = len(cov_matr_arr.index.levels[0]), len(cov_matr_arr.index.levels[1])\n",
        "cov_matr_arr = cov_matr_arr.values.reshape(m, n, -1).swapaxes(1, 2)\n",
        "time = 3000\n",
        "covMat = cov_matr_arr[time]"
      ],
      "execution_count": 0,
      "outputs": []
    },
    {
      "cell_type": "markdown",
      "metadata": {
        "id": "Uwma2vm-svCU",
        "colab_type": "text"
      },
      "source": [
        "Sean"
      ]
    },
    {
      "cell_type": "code",
      "metadata": {
        "id": "sWQHLhsmsu3Q",
        "colab_type": "code",
        "colab": {}
      },
      "source": [
        "newcov = covMat[:9,:9]\n",
        "q = covMat[9][:9]"
      ],
      "execution_count": 0,
      "outputs": []
    },
    {
      "cell_type": "markdown",
      "metadata": {
        "id": "WRK-zO6cKuIy",
        "colab_type": "text"
      },
      "source": [
        "Usaré la notación de http://web.stanford.edu/~boyd/papers/pdf/socp.pdf p.5"
      ]
    },
    {
      "cell_type": "code",
      "metadata": {
        "id": "mkyihRJp0Koj",
        "colab_type": "code",
        "colab": {}
      },
      "source": [
        "p_0sqrt = scipy.linalg.sqrtm(newcov)\n",
        "p_0minussqrt = np.linalg.matrix_power(p_0sqrt,-1)\n",
        "q_0 = -q"
      ],
      "execution_count": 0,
      "outputs": []
    },
    {
      "cell_type": "code",
      "metadata": {
        "id": "J2L6XKjV8It9",
        "colab_type": "code",
        "colab": {}
      },
      "source": [
        "f = np.array([0,0,0,0,0,0,0,0,0])  #esta f es t, pero ya había usado t antes"
      ],
      "execution_count": 0,
      "outputs": []
    },
    {
      "cell_type": "code",
      "metadata": {
        "id": "DZeOd-oo8PJz",
        "colab_type": "code",
        "colab": {}
      },
      "source": [
        "#f = np.random.randn(9)\n"
      ],
      "execution_count": 0,
      "outputs": []
    },
    {
      "cell_type": "code",
      "metadata": {
        "id": "9sgGl1wp6dr1",
        "colab_type": "code",
        "colab": {}
      },
      "source": [
        "x = cp.Variable(9)\n",
        "soc_constraints = [\n",
        "      cp.SOC(f.T @ x, p_0sqrt @ x + np.matmul(p_0minussqrt,q_0))]\n",
        "prob = cp.Problem(cp.Minimize(f.T@x), soc_constraints)"
      ],
      "execution_count": 0,
      "outputs": []
    },
    {
      "cell_type": "code",
      "metadata": {
        "id": "5fLvn8Z96zHR",
        "colab_type": "code",
        "colab": {
          "base_uri": "https://localhost:8080/",
          "height": 34
        },
        "outputId": "975fbb1a-053a-43ae-e1eb-7fc493f1a2d4"
      },
      "source": [
        "prob.solve()"
      ],
      "execution_count": 299,
      "outputs": [
        {
          "output_type": "execute_result",
          "data": {
            "text/plain": [
              "0.0"
            ]
          },
          "metadata": {
            "tags": []
          },
          "execution_count": 299
        }
      ]
    },
    {
      "cell_type": "code",
      "metadata": {
        "id": "ebj_h8Su63YD",
        "colab_type": "code",
        "colab": {
          "base_uri": "https://localhost:8080/",
          "height": 51
        },
        "outputId": "07ed83b7-bf16-4e94-c6a5-4bdc6bb5199c"
      },
      "source": [
        "x.value"
      ],
      "execution_count": 300,
      "outputs": [
        {
          "output_type": "execute_result",
          "data": {
            "text/plain": [
              "array([-0.00477405,  0.18379647,  0.0764348 ,  0.07511024,  0.05619531,\n",
              "       -0.09242163,  0.02759113, -0.23144184, -0.06578998])"
            ]
          },
          "metadata": {
            "tags": []
          },
          "execution_count": 300
        }
      ]
    },
    {
      "cell_type": "markdown",
      "metadata": {
        "id": "SERpMwLkIZ1I",
        "colab_type": "text"
      },
      "source": [
        "es lo mismo que:"
      ]
    },
    {
      "cell_type": "code",
      "metadata": {
        "id": "rqPuCWGAr3Uc",
        "colab_type": "code",
        "colab": {}
      },
      "source": [
        "size = 9\n",
        "x = cp.Variable(size)\n",
        "a = np.identity(size)\n",
        "constraints = []\n",
        "objective = cp.Minimize(cp.quad_form(x, newcov) - 2*q.T @ x)\n",
        "prob = cp.Problem(objective, constraints)"
      ],
      "execution_count": 0,
      "outputs": []
    },
    {
      "cell_type": "code",
      "metadata": {
        "id": "BogPdlX8r3SI",
        "colab_type": "code",
        "colab": {
          "base_uri": "https://localhost:8080/",
          "height": 34
        },
        "outputId": "45bc3ee2-7062-4058-babc-b9cdde1fe3be"
      },
      "source": [
        "prob.solve()"
      ],
      "execution_count": 257,
      "outputs": [
        {
          "output_type": "execute_result",
          "data": {
            "text/plain": [
              "-7.236487671237384e-07"
            ]
          },
          "metadata": {
            "tags": []
          },
          "execution_count": 257
        }
      ]
    },
    {
      "cell_type": "code",
      "metadata": {
        "id": "29J4quUItB84",
        "colab_type": "code",
        "colab": {
          "base_uri": "https://localhost:8080/",
          "height": 51
        },
        "outputId": "83f6f4fe-4c70-440d-b8e7-09bc69f81ff0"
      },
      "source": [
        "x.value"
      ],
      "execution_count": 258,
      "outputs": [
        {
          "output_type": "execute_result",
          "data": {
            "text/plain": [
              "array([-0.00477407,  0.18379644,  0.07643478,  0.07511021,  0.05619529,\n",
              "       -0.09242166,  0.02759111, -0.2314419 , -0.06579002])"
            ]
          },
          "metadata": {
            "tags": []
          },
          "execution_count": 258
        }
      ]
    },
    {
      "cell_type": "code",
      "metadata": {
        "id": "hVbZn2K-_dpB",
        "colab_type": "code",
        "colab": {}
      },
      "source": [
        ""
      ],
      "execution_count": 0,
      "outputs": []
    },
    {
      "cell_type": "markdown",
      "metadata": {
        "id": "luE4ECj3_fMU",
        "colab_type": "text"
      },
      "source": [
        "la nuevas condiciones se escriben como $(x_i\\Sigma') x - 0.4 x^T \\Sigma x \\leq 0$ donde $\\Sigma$ es la matriz de covarianza de las 9 currencies ie *newcov* y $\\Sigma'$ es el producto punto de la fila $i$ de $\\Sigma$ con el vector $x$ de pesos. Además $x_i$ es la coordenada $i$ de $x$ que se obtiene como $a[i] \\cdot x$ (producto punto) donde $a[i]$ es la fila $i$-ésima de la matriz identidad ($I_9$) "
      ]
    },
    {
      "cell_type": "markdown",
      "metadata": {
        "id": "NksddZCVBNM3",
        "colab_type": "text"
      },
      "source": [
        "Usando la notación de http://web.stanford.edu/~boyd/papers/pdf/socp.pdf p.5, tendríamos 9 constraints de la forma\n",
        "\n",
        "$x^T P_i x + 2 q_i^T X \\leq 0 $\n",
        "\n",
        "con $i = 1, \\ldots, 9$, así que $P_i = \\sqrt(0.4 \\Sigma)$ (esto es igual para todas) y $q_i^T = (1/2) x_i \\Sigma' $ por ej la constraint $i=5$ se escribe así: "
      ]
    },
    {
      "cell_type": "code",
      "metadata": {
        "id": "Duv-IWLGCJ8O",
        "colab_type": "code",
        "colab": {}
      },
      "source": [
        "a = np.identity(9)"
      ],
      "execution_count": 0,
      "outputs": []
    },
    {
      "cell_type": "code",
      "metadata": {
        "id": "rPWlvxNgM9Qd",
        "colab_type": "code",
        "colab": {
          "base_uri": "https://localhost:8080/",
          "height": 130
        },
        "outputId": "f55f0cad-f3a4-41c2-e8ce-92521a6f255d"
      },
      "source": [
        "p_5sqrt = scipy.linalg.sqrtm(newcov)"
      ],
      "execution_count": 322,
      "outputs": [
        {
          "output_type": "error",
          "ename": "SyntaxError",
          "evalue": "ignored",
          "traceback": [
            "\u001b[0;36m  File \u001b[0;32m\"<ipython-input-322-1241123cc061>\"\u001b[0;36m, line \u001b[0;32m2\u001b[0m\n\u001b[0;31m    -p_5sqrt = -1* p_5sqrt\u001b[0m\n\u001b[0m                          ^\u001b[0m\n\u001b[0;31mSyntaxError\u001b[0m\u001b[0;31m:\u001b[0m can't assign to operator\n"
          ]
        }
      ]
    },
    {
      "cell_type": "code",
      "metadata": {
        "id": "6ILAbCC4EAyR",
        "colab_type": "code",
        "colab": {}
      },
      "source": [
        "sigma_prime = newcov[5]\n",
        "q_5 = 1/2*a[5]*sigma_prime"
      ],
      "execution_count": 0,
      "outputs": []
    },
    {
      "cell_type": "markdown",
      "metadata": {
        "id": "ACTYTsy_Ei9E",
        "colab_type": "text"
      },
      "source": [
        "el cuadrado de $P_5$ es la sig matriz"
      ]
    },
    {
      "cell_type": "code",
      "metadata": {
        "id": "PKVeE2Rd_aTL",
        "colab_type": "code",
        "colab": {}
      },
      "source": [
        "p_5sqrt = scipy.linalg.sqrtm(4*newcov)"
      ],
      "execution_count": 0,
      "outputs": []
    },
    {
      "cell_type": "code",
      "metadata": {
        "id": "er8TrleQGHNT",
        "colab_type": "code",
        "colab": {}
      },
      "source": [
        "p_5minussqrt = np.linalg.matrix_power(p_5sqrt,-1)\n"
      ],
      "execution_count": 0,
      "outputs": []
    },
    {
      "cell_type": "code",
      "metadata": {
        "id": "SbNePf5XHHik",
        "colab_type": "code",
        "colab": {}
      },
      "source": [
        "p_5totheminusone = np.linalg.matrix_power(p_5sqrt,-2)"
      ],
      "execution_count": 0,
      "outputs": []
    },
    {
      "cell_type": "code",
      "metadata": {
        "id": "OkjIIr4PHUDh",
        "colab_type": "code",
        "colab": {}
      },
      "source": [
        "q_5trans_P_5minusone_q5 = np.sqrt(np.matmul(np.transpose(q_5),np.matmul(p_5totheminusone, q_5)))"
      ],
      "execution_count": 0,
      "outputs": []
    },
    {
      "cell_type": "code",
      "metadata": {
        "id": "wNj4IyWuGRor",
        "colab_type": "code",
        "colab": {
          "base_uri": "https://localhost:8080/",
          "height": 334
        },
        "outputId": "2401c95e-d27e-4c67-995e-680343505aa9"
      },
      "source": [
        "x = cp.Variable(9)\n",
        "soc_constraints = [\n",
        "      cp.SOC(f.T @ x, p_0sqrt @ x + np.matmul(p_0minussqrt,q_0)),\n",
        "      cp.SOC(q_5trans_P_5minusone_q5, p_5sqrt @ x + np.matmul(p_5minussqrt,q_5))]\n",
        "prob = cp.Problem(cp.Minimize(f.T@x), soc_constraints)"
      ],
      "execution_count": 319,
      "outputs": [
        {
          "output_type": "error",
          "ename": "AttributeError",
          "evalue": "ignored",
          "traceback": [
            "\u001b[0;31m---------------------------------------------------------------------------\u001b[0m",
            "\u001b[0;31mAttributeError\u001b[0m                            Traceback (most recent call last)",
            "\u001b[0;32m<ipython-input-319-970b0784db68>\u001b[0m in \u001b[0;36m<module>\u001b[0;34m()\u001b[0m\n\u001b[1;32m      2\u001b[0m soc_constraints = [\n\u001b[1;32m      3\u001b[0m       \u001b[0mcp\u001b[0m\u001b[0;34m.\u001b[0m\u001b[0mSOC\u001b[0m\u001b[0;34m(\u001b[0m\u001b[0mf\u001b[0m\u001b[0;34m.\u001b[0m\u001b[0mT\u001b[0m \u001b[0;34m@\u001b[0m \u001b[0mx\u001b[0m\u001b[0;34m,\u001b[0m \u001b[0mp_0sqrt\u001b[0m \u001b[0;34m@\u001b[0m \u001b[0mx\u001b[0m \u001b[0;34m+\u001b[0m \u001b[0mnp\u001b[0m\u001b[0;34m.\u001b[0m\u001b[0mmatmul\u001b[0m\u001b[0;34m(\u001b[0m\u001b[0mp_0minussqrt\u001b[0m\u001b[0;34m,\u001b[0m\u001b[0mq_0\u001b[0m\u001b[0;34m)\u001b[0m\u001b[0;34m)\u001b[0m\u001b[0;34m,\u001b[0m\u001b[0;34m\u001b[0m\u001b[0;34m\u001b[0m\u001b[0m\n\u001b[0;32m----> 4\u001b[0;31m       cp.SOC(q_5trans_P_5minusone_q5, p_5sqrt @ x + np.matmul(p_5minussqrt,q_5))]\n\u001b[0m\u001b[1;32m      5\u001b[0m \u001b[0mprob\u001b[0m \u001b[0;34m=\u001b[0m \u001b[0mcp\u001b[0m\u001b[0;34m.\u001b[0m\u001b[0mProblem\u001b[0m\u001b[0;34m(\u001b[0m\u001b[0mcp\u001b[0m\u001b[0;34m.\u001b[0m\u001b[0mMinimize\u001b[0m\u001b[0;34m(\u001b[0m\u001b[0mf\u001b[0m\u001b[0;34m.\u001b[0m\u001b[0mT\u001b[0m\u001b[0;34m@\u001b[0m\u001b[0mx\u001b[0m\u001b[0;34m)\u001b[0m\u001b[0;34m,\u001b[0m \u001b[0msoc_constraints\u001b[0m\u001b[0;34m)\u001b[0m\u001b[0;34m\u001b[0m\u001b[0;34m\u001b[0m\u001b[0m\n",
            "\u001b[0;32m/usr/local/lib/python3.6/dist-packages/cvxpy/constraints/second_order.py\u001b[0m in \u001b[0;36m__init__\u001b[0;34m(self, t, X, axis, constr_id)\u001b[0m\n\u001b[1;32m     32\u001b[0m \u001b[0;34m\u001b[0m\u001b[0m\n\u001b[1;32m     33\u001b[0m     \u001b[0;32mdef\u001b[0m \u001b[0m__init__\u001b[0m\u001b[0;34m(\u001b[0m\u001b[0mself\u001b[0m\u001b[0;34m,\u001b[0m \u001b[0mt\u001b[0m\u001b[0;34m,\u001b[0m \u001b[0mX\u001b[0m\u001b[0;34m,\u001b[0m \u001b[0maxis\u001b[0m\u001b[0;34m=\u001b[0m\u001b[0;36m0\u001b[0m\u001b[0;34m,\u001b[0m \u001b[0mconstr_id\u001b[0m\u001b[0;34m=\u001b[0m\u001b[0;32mNone\u001b[0m\u001b[0;34m)\u001b[0m\u001b[0;34m:\u001b[0m\u001b[0;34m\u001b[0m\u001b[0;34m\u001b[0m\u001b[0m\n\u001b[0;32m---> 34\u001b[0;31m         \u001b[0;32mif\u001b[0m \u001b[0mlen\u001b[0m\u001b[0;34m(\u001b[0m\u001b[0mt\u001b[0m\u001b[0;34m.\u001b[0m\u001b[0mshape\u001b[0m\u001b[0;34m)\u001b[0m \u001b[0;34m>=\u001b[0m \u001b[0;36m2\u001b[0m \u001b[0;32mor\u001b[0m \u001b[0;32mnot\u001b[0m \u001b[0mt\u001b[0m\u001b[0;34m.\u001b[0m\u001b[0mis_real\u001b[0m\u001b[0;34m(\u001b[0m\u001b[0;34m)\u001b[0m\u001b[0;34m:\u001b[0m\u001b[0;34m\u001b[0m\u001b[0;34m\u001b[0m\u001b[0m\n\u001b[0m\u001b[1;32m     35\u001b[0m             \u001b[0;32mraise\u001b[0m \u001b[0mValueError\u001b[0m\u001b[0;34m(\u001b[0m\u001b[0;34m\"Invalid first argument.\"\u001b[0m\u001b[0;34m)\u001b[0m\u001b[0;34m\u001b[0m\u001b[0;34m\u001b[0m\u001b[0m\n\u001b[1;32m     36\u001b[0m         \u001b[0;31m# Check t has one entry per cone.\u001b[0m\u001b[0;34m\u001b[0m\u001b[0;34m\u001b[0m\u001b[0;34m\u001b[0m\u001b[0m\n",
            "\u001b[0;31mAttributeError\u001b[0m: 'numpy.float64' object has no attribute 'is_real'"
          ]
        }
      ]
    },
    {
      "cell_type": "code",
      "metadata": {
        "id": "bVl_f9PNGRha",
        "colab_type": "code",
        "colab": {}
      },
      "source": [
        ""
      ],
      "execution_count": 0,
      "outputs": []
    },
    {
      "cell_type": "code",
      "metadata": {
        "id": "Y5W4fVX8GRcJ",
        "colab_type": "code",
        "colab": {}
      },
      "source": [
        ""
      ],
      "execution_count": 0,
      "outputs": []
    },
    {
      "cell_type": "code",
      "metadata": {
        "id": "bTlakF7MGRWJ",
        "colab_type": "code",
        "colab": {}
      },
      "source": [
        ""
      ],
      "execution_count": 0,
      "outputs": []
    }
  ]
}